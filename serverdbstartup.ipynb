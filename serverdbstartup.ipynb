{
    "metadata": {
        "kernelspec": {
            "name": "SQL",
            "display_name": "SQL",
            "language": "sql"
        },
        "language_info": {
            "name": "sql",
            "version": ""
        }
    },
    "nbformat_minor": 2,
    "nbformat": 4,
    "cells": [
        {
            "cell_type": "code",
            "source": [
                "-- Initial db setup\n",
                "CREATE TABLE agent (\n",
                "    client_id VARCHAR(50) PRIMARY KEY NOT NULL,\n",
                "    username VARCHAR(50) NOT NULL UNIQUE,\n",
                "    email VARCHAR(50) UNIQUE,\n",
                "    creation_date TIMESTAMP NOT NULL,\n",
                "    hashed_and_salted_password VARCHAR(255) NOT NULL\n",
                ");\n",
                "\n",
                "CREATE TABLE message (\n",
                "    message_id VARCHAR(50) PRIMARY KEY NOT NULL,\n",
                "    sender_id VARCHAR(50) NOT NULL,\n",
                "    recipient_id VARCHAR(50) NOT NULL,\n",
                "    encrypted_message VARCHAR(255) NOT NULL,\n",
                "    sent_at TIMESTAMP NOT NULL,\n",
                "    message_signature VARCHAR(255) NOT NULL,\n",
                "    FOREIGN KEY (sender_id) REFERENCES agent(client_id),\n",
                "    FOREIGN KEY (recipient_id) REFERENCES agent(client_id)\n",
                ");"
            ],
            "metadata": {
                "azdata_cell_guid": "62604b9e-1265-403d-b8ce-01a98bf6a523",
                "language": "sql"
            },
            "outputs": [],
            "execution_count": null
        },
        {
            "cell_type": "code",
            "source": [
                ""
            ],
            "metadata": {
                "azdata_cell_guid": "d3a79ec5-2436-4237-bc70-0a3ef2415459",
                "language": "sql"
            },
            "outputs": [],
            "execution_count": null
        }
    ]
}